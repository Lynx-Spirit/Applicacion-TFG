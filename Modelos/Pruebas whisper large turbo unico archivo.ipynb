{
 "cells": [
  {
   "cell_type": "markdown",
   "id": "5c1cc807-d20e-4db3-b96a-1af4c5794c8e",
   "metadata": {
    "editable": true,
    "slideshow": {
     "slide_type": ""
    },
    "tags": []
   },
   "source": [
    "## Procesamiento inicial de los ficheros de audio\n",
    "\n",
    "En esta parte lo único que voy a hacer va a ser transformar el fichero de auido a **.mp3**. Para todo lo que es el procesamiento de los audios, se usará la librería [pydub](https://pydub.com)"
   ]
  },
  {
   "cell_type": "code",
   "execution_count": 5,
   "id": "043be622-ae41-4766-9aae-c97cff01b38b",
   "metadata": {},
   "outputs": [
    {
     "name": "stdout",
     "output_type": "stream",
     "text": [
      "Requirement already satisfied: pip in f:\\programas\\miniconda\\envs\\tfg\\lib\\site-packages (25.1.1)\n",
      "Note: you may need to restart the kernel to use updated packages.\n"
     ]
    }
   ],
   "source": [
    "pip install --upgrade pip "
   ]
  },
  {
   "cell_type": "code",
   "execution_count": 6,
   "id": "8f619b67-b568-4402-a7f8-e99cbf0084b8",
   "metadata": {},
   "outputs": [
    {
     "name": "stdout",
     "output_type": "stream",
     "text": [
      "Requirement already satisfied: pydub in f:\\programas\\miniconda\\envs\\tfg\\lib\\site-packages (0.25.1)\n",
      "Note: you may need to restart the kernel to use updated packages.\n"
     ]
    }
   ],
   "source": [
    "pip install pydub"
   ]
  },
  {
   "cell_type": "code",
   "execution_count": 7,
   "id": "11b32624-a6ce-42bd-bc2d-2bc0382f2ad0",
   "metadata": {},
   "outputs": [
    {
     "data": {
      "text/plain": [
       "True"
      ]
     },
     "execution_count": 7,
     "metadata": {},
     "output_type": "execute_result"
    }
   ],
   "source": [
    "import os\n",
    "#Checkeo que se encuentra el archivo\n",
    "os.path.exists(\"./audios/audio_prueba.ogg\")"
   ]
  },
  {
   "cell_type": "code",
   "execution_count": 8,
   "id": "83b69a32-4ad8-4c94-b132-28728a58642e",
   "metadata": {
    "editable": true,
    "slideshow": {
     "slide_type": ""
    },
    "tags": []
   },
   "outputs": [
    {
     "data": {
      "text/plain": [
       "<_io.BufferedRandom name='./audios/salida/audio_prueba.mp3'>"
      ]
     },
     "execution_count": 8,
     "metadata": {},
     "output_type": "execute_result"
    }
   ],
   "source": [
    "from pydub import AudioSegment\n",
    "sound = AudioSegment.from_file(\"./audios/audio_prueba.ogg\") #Puedes meter aquí cualquier tipo de audio\n",
    "\n",
    "sound.export(\"./audios/salida/audio_prueba.mp3\", format=\"mp3\", bitrate=\"128k\")"
   ]
  },
  {
   "cell_type": "markdown",
   "id": "fb8bd4c9-4cce-4264-9a3b-305b6d7b1491",
   "metadata": {},
   "source": [
    "## Uso del modelo\n",
    "\n"
   ]
  },
  {
   "cell_type": "code",
   "execution_count": 9,
   "id": "dce69b6b-f351-481b-9c06-f22aa0c9cb53",
   "metadata": {},
   "outputs": [
    {
     "name": "stdout",
     "output_type": "stream",
     "text": [
      "Requirement already satisfied: transformers in f:\\programas\\miniconda\\envs\\tfg\\lib\\site-packages (4.52.4)\n",
      "Requirement already satisfied: accelerate in f:\\programas\\miniconda\\envs\\tfg\\lib\\site-packages (1.7.0)\n",
      "Requirement already satisfied: datasets[audio] in f:\\programas\\miniconda\\envs\\tfg\\lib\\site-packages (3.6.0)\n",
      "Requirement already satisfied: filelock in f:\\programas\\miniconda\\envs\\tfg\\lib\\site-packages (from transformers) (3.17.0)\n",
      "Requirement already satisfied: huggingface-hub<1.0,>=0.30.0 in f:\\programas\\miniconda\\envs\\tfg\\lib\\site-packages (from transformers) (0.31.4)\n",
      "Requirement already satisfied: numpy>=1.17 in f:\\programas\\miniconda\\envs\\tfg\\lib\\site-packages (from transformers) (2.2.6)\n",
      "Requirement already satisfied: packaging>=20.0 in f:\\programas\\miniconda\\envs\\tfg\\lib\\site-packages (from transformers) (24.2)\n",
      "Requirement already satisfied: pyyaml>=5.1 in f:\\programas\\miniconda\\envs\\tfg\\lib\\site-packages (from transformers) (6.0.2)\n",
      "Requirement already satisfied: regex!=2019.12.17 in f:\\programas\\miniconda\\envs\\tfg\\lib\\site-packages (from transformers) (2024.11.6)\n",
      "Requirement already satisfied: requests in f:\\programas\\miniconda\\envs\\tfg\\lib\\site-packages (from transformers) (2.32.3)\n",
      "Requirement already satisfied: tokenizers<0.22,>=0.21 in f:\\programas\\miniconda\\envs\\tfg\\lib\\site-packages (from transformers) (0.21.1)\n",
      "Requirement already satisfied: safetensors>=0.4.3 in f:\\programas\\miniconda\\envs\\tfg\\lib\\site-packages (from transformers) (0.5.3)\n",
      "Requirement already satisfied: tqdm>=4.27 in f:\\programas\\miniconda\\envs\\tfg\\lib\\site-packages (from transformers) (4.67.1)\n",
      "Requirement already satisfied: fsspec>=2023.5.0 in f:\\programas\\miniconda\\envs\\tfg\\lib\\site-packages (from huggingface-hub<1.0,>=0.30.0->transformers) (2025.3.0)\n",
      "Requirement already satisfied: typing-extensions>=3.7.4.3 in f:\\programas\\miniconda\\envs\\tfg\\lib\\site-packages (from huggingface-hub<1.0,>=0.30.0->transformers) (4.12.2)\n",
      "Requirement already satisfied: pyarrow>=15.0.0 in f:\\programas\\miniconda\\envs\\tfg\\lib\\site-packages (from datasets[audio]) (20.0.0)\n",
      "Requirement already satisfied: dill<0.3.9,>=0.3.0 in f:\\programas\\miniconda\\envs\\tfg\\lib\\site-packages (from datasets[audio]) (0.3.8)\n",
      "Requirement already satisfied: pandas in f:\\programas\\miniconda\\envs\\tfg\\lib\\site-packages (from datasets[audio]) (2.2.3)\n",
      "Requirement already satisfied: xxhash in f:\\programas\\miniconda\\envs\\tfg\\lib\\site-packages (from datasets[audio]) (3.5.0)\n",
      "Requirement already satisfied: multiprocess<0.70.17 in f:\\programas\\miniconda\\envs\\tfg\\lib\\site-packages (from datasets[audio]) (0.70.16)\n",
      "Requirement already satisfied: soundfile>=0.12.1 in f:\\programas\\miniconda\\envs\\tfg\\lib\\site-packages (from datasets[audio]) (0.13.1)\n",
      "Requirement already satisfied: librosa in f:\\programas\\miniconda\\envs\\tfg\\lib\\site-packages (from datasets[audio]) (0.11.0)\n",
      "Requirement already satisfied: soxr>=0.4.0 in f:\\programas\\miniconda\\envs\\tfg\\lib\\site-packages (from datasets[audio]) (0.5.0.post1)\n",
      "Requirement already satisfied: aiohttp!=4.0.0a0,!=4.0.0a1 in f:\\programas\\miniconda\\envs\\tfg\\lib\\site-packages (from fsspec[http]<=2025.3.0,>=2023.1.0->datasets[audio]) (3.11.18)\n",
      "Requirement already satisfied: psutil in f:\\programas\\miniconda\\envs\\tfg\\lib\\site-packages (from accelerate) (5.9.0)\n",
      "Requirement already satisfied: torch>=2.0.0 in f:\\programas\\miniconda\\envs\\tfg\\lib\\site-packages (from accelerate) (2.5.1+cu121)\n",
      "Requirement already satisfied: aiohappyeyeballs>=2.3.0 in f:\\programas\\miniconda\\envs\\tfg\\lib\\site-packages (from aiohttp!=4.0.0a0,!=4.0.0a1->fsspec[http]<=2025.3.0,>=2023.1.0->datasets[audio]) (2.6.1)\n",
      "Requirement already satisfied: aiosignal>=1.1.2 in f:\\programas\\miniconda\\envs\\tfg\\lib\\site-packages (from aiohttp!=4.0.0a0,!=4.0.0a1->fsspec[http]<=2025.3.0,>=2023.1.0->datasets[audio]) (1.3.2)\n",
      "Requirement already satisfied: attrs>=17.3.0 in f:\\programas\\miniconda\\envs\\tfg\\lib\\site-packages (from aiohttp!=4.0.0a0,!=4.0.0a1->fsspec[http]<=2025.3.0,>=2023.1.0->datasets[audio]) (24.3.0)\n",
      "Requirement already satisfied: frozenlist>=1.1.1 in f:\\programas\\miniconda\\envs\\tfg\\lib\\site-packages (from aiohttp!=4.0.0a0,!=4.0.0a1->fsspec[http]<=2025.3.0,>=2023.1.0->datasets[audio]) (1.6.0)\n",
      "Requirement already satisfied: multidict<7.0,>=4.5 in f:\\programas\\miniconda\\envs\\tfg\\lib\\site-packages (from aiohttp!=4.0.0a0,!=4.0.0a1->fsspec[http]<=2025.3.0,>=2023.1.0->datasets[audio]) (6.4.4)\n",
      "Requirement already satisfied: propcache>=0.2.0 in f:\\programas\\miniconda\\envs\\tfg\\lib\\site-packages (from aiohttp!=4.0.0a0,!=4.0.0a1->fsspec[http]<=2025.3.0,>=2023.1.0->datasets[audio]) (0.3.1)\n",
      "Requirement already satisfied: yarl<2.0,>=1.17.0 in f:\\programas\\miniconda\\envs\\tfg\\lib\\site-packages (from aiohttp!=4.0.0a0,!=4.0.0a1->fsspec[http]<=2025.3.0,>=2023.1.0->datasets[audio]) (1.20.0)\n",
      "Requirement already satisfied: idna>=2.0 in f:\\programas\\miniconda\\envs\\tfg\\lib\\site-packages (from yarl<2.0,>=1.17.0->aiohttp!=4.0.0a0,!=4.0.0a1->fsspec[http]<=2025.3.0,>=2023.1.0->datasets[audio]) (3.7)\n",
      "Requirement already satisfied: charset-normalizer<4,>=2 in f:\\programas\\miniconda\\envs\\tfg\\lib\\site-packages (from requests->transformers) (3.3.2)\n",
      "Requirement already satisfied: urllib3<3,>=1.21.1 in f:\\programas\\miniconda\\envs\\tfg\\lib\\site-packages (from requests->transformers) (2.3.0)\n",
      "Requirement already satisfied: certifi>=2017.4.17 in f:\\programas\\miniconda\\envs\\tfg\\lib\\site-packages (from requests->transformers) (2025.4.26)\n",
      "Requirement already satisfied: cffi>=1.0 in f:\\programas\\miniconda\\envs\\tfg\\lib\\site-packages (from soundfile>=0.12.1->datasets[audio]) (1.17.1)\n",
      "Requirement already satisfied: pycparser in f:\\programas\\miniconda\\envs\\tfg\\lib\\site-packages (from cffi>=1.0->soundfile>=0.12.1->datasets[audio]) (2.21)\n",
      "Requirement already satisfied: networkx in f:\\programas\\miniconda\\envs\\tfg\\lib\\site-packages (from torch>=2.0.0->accelerate) (3.4.2)\n",
      "Requirement already satisfied: jinja2 in f:\\programas\\miniconda\\envs\\tfg\\lib\\site-packages (from torch>=2.0.0->accelerate) (3.1.6)\n",
      "Requirement already satisfied: sympy==1.13.1 in f:\\programas\\miniconda\\envs\\tfg\\lib\\site-packages (from torch>=2.0.0->accelerate) (1.13.1)\n",
      "Requirement already satisfied: mpmath<1.4,>=1.1.0 in f:\\programas\\miniconda\\envs\\tfg\\lib\\site-packages (from sympy==1.13.1->torch>=2.0.0->accelerate) (1.3.0)\n",
      "Requirement already satisfied: colorama in f:\\programas\\miniconda\\envs\\tfg\\lib\\site-packages (from tqdm>=4.27->transformers) (0.4.6)\n",
      "Requirement already satisfied: MarkupSafe>=2.0 in f:\\programas\\miniconda\\envs\\tfg\\lib\\site-packages (from jinja2->torch>=2.0.0->accelerate) (3.0.2)\n",
      "Requirement already satisfied: audioread>=2.1.9 in f:\\programas\\miniconda\\envs\\tfg\\lib\\site-packages (from librosa->datasets[audio]) (3.0.1)\n",
      "Requirement already satisfied: numba>=0.51.0 in f:\\programas\\miniconda\\envs\\tfg\\lib\\site-packages (from librosa->datasets[audio]) (0.61.2)\n",
      "Requirement already satisfied: scipy>=1.6.0 in f:\\programas\\miniconda\\envs\\tfg\\lib\\site-packages (from librosa->datasets[audio]) (1.15.3)\n",
      "Requirement already satisfied: scikit-learn>=1.1.0 in f:\\programas\\miniconda\\envs\\tfg\\lib\\site-packages (from librosa->datasets[audio]) (1.6.1)\n",
      "Requirement already satisfied: joblib>=1.0 in f:\\programas\\miniconda\\envs\\tfg\\lib\\site-packages (from librosa->datasets[audio]) (1.4.2)\n",
      "Requirement already satisfied: decorator>=4.3.0 in f:\\programas\\miniconda\\envs\\tfg\\lib\\site-packages (from librosa->datasets[audio]) (5.1.1)\n",
      "Requirement already satisfied: pooch>=1.1 in f:\\programas\\miniconda\\envs\\tfg\\lib\\site-packages (from librosa->datasets[audio]) (1.8.2)\n",
      "Requirement already satisfied: lazy_loader>=0.1 in f:\\programas\\miniconda\\envs\\tfg\\lib\\site-packages (from librosa->datasets[audio]) (0.4)\n",
      "Requirement already satisfied: msgpack>=1.0 in f:\\programas\\miniconda\\envs\\tfg\\lib\\site-packages (from librosa->datasets[audio]) (1.1.0)\n",
      "Requirement already satisfied: llvmlite<0.45,>=0.44.0dev0 in f:\\programas\\miniconda\\envs\\tfg\\lib\\site-packages (from numba>=0.51.0->librosa->datasets[audio]) (0.44.0)\n",
      "Requirement already satisfied: platformdirs>=2.5.0 in f:\\programas\\miniconda\\envs\\tfg\\lib\\site-packages (from pooch>=1.1->librosa->datasets[audio]) (4.3.7)\n",
      "Requirement already satisfied: threadpoolctl>=3.1.0 in f:\\programas\\miniconda\\envs\\tfg\\lib\\site-packages (from scikit-learn>=1.1.0->librosa->datasets[audio]) (3.5.0)\n",
      "Requirement already satisfied: python-dateutil>=2.8.2 in f:\\programas\\miniconda\\envs\\tfg\\lib\\site-packages (from pandas->datasets[audio]) (2.9.0.post0)\n",
      "Requirement already satisfied: pytz>=2020.1 in f:\\programas\\miniconda\\envs\\tfg\\lib\\site-packages (from pandas->datasets[audio]) (2025.2)\n",
      "Requirement already satisfied: tzdata>=2022.7 in f:\\programas\\miniconda\\envs\\tfg\\lib\\site-packages (from pandas->datasets[audio]) (2025.2)\n",
      "Requirement already satisfied: six>=1.5 in f:\\programas\\miniconda\\envs\\tfg\\lib\\site-packages (from python-dateutil>=2.8.2->pandas->datasets[audio]) (1.17.0)\n",
      "Note: you may need to restart the kernel to use updated packages.\n"
     ]
    }
   ],
   "source": [
    "pip install --upgrade transformers datasets[audio] accelerate"
   ]
  },
  {
   "cell_type": "code",
   "execution_count": 10,
   "id": "088651b6-6770-49c2-81a7-7f8228620fd4",
   "metadata": {},
   "outputs": [
    {
     "name": "stdout",
     "output_type": "stream",
     "text": [
      "PyTorch: 2.5.1+cu121\n",
      "CUDA disponible: True\n",
      "GPU: NVIDIA GeForce RTX 4060\n"
     ]
    }
   ],
   "source": [
    "import torch\n",
    "print(\"PyTorch:\", torch.__version__)\n",
    "print(\"CUDA disponible:\", torch.cuda.is_available())\n",
    "print(\"GPU:\", torch.cuda.get_device_name(0))"
   ]
  },
  {
   "cell_type": "code",
   "execution_count": 12,
   "id": "c1598126-1483-4bd4-a3bf-1ee6fb47d194",
   "metadata": {},
   "outputs": [
    {
     "name": "stderr",
     "output_type": "stream",
     "text": [
      "Device set to use cuda:0\n",
      "F:\\Programas\\MiniConda\\envs\\tfg\\Lib\\site-packages\\transformers\\models\\whisper\\generation_whisper.py:573: FutureWarning: The input name `inputs` is deprecated. Please make sure to use `input_features` instead.\n",
      "  warnings.warn(\n",
      "Due to a bug fix in https://github.com/huggingface/transformers/pull/28687 transcription using a multilingual Whisper will default to language detection followed by transcription instead of translation to English.This might be a breaking change for your use case. If you want to instead always translate your audio to English, make sure to pass `language='en'`.\n"
     ]
    }
   ],
   "source": [
    "import torch\n",
    "from transformers import AutoModelForSpeechSeq2Seq, AutoProcessor, pipeline\n",
    "from datasets import load_dataset\n",
    "\n",
    "\n",
    "device = \"cuda:0\" if torch.cuda.is_available() else \"cpu\"\n",
    "torch_dtype = torch.float16 if torch.cuda.is_available() else torch.float32\n",
    "\n",
    "model_id = \"openai/whisper-large-v3-turbo\"\n",
    "\n",
    "model = AutoModelForSpeechSeq2Seq.from_pretrained(\n",
    "    model_id, torch_dtype=torch_dtype, low_cpu_mem_usage=True, use_safetensors=True\n",
    ")\n",
    "model.to(device)\n",
    "\n",
    "processor = AutoProcessor.from_pretrained(model_id)\n",
    "\n",
    "pipe = pipeline(\n",
    "    \"automatic-speech-recognition\",\n",
    "    model=model,\n",
    "    tokenizer=processor.tokenizer,\n",
    "    feature_extractor=processor.feature_extractor,\n",
    "    torch_dtype=torch_dtype,\n",
    "    device=device,\n",
    ")\n",
    "\n",
    "result = pipe(\"./audios/salida/audio_prueba.mp3\", return_timestamps=True)\n"
   ]
  },
  {
   "cell_type": "code",
   "execution_count": 13,
   "id": "b8926fcc-8ba0-4b9d-9ae9-45015f86cb32",
   "metadata": {},
   "outputs": [],
   "source": [
    "with open(\"./salida/salida_unico_archivo_whisper_large_turbo.txt\", \"w\") as archivo:\n",
    "    archivo.write(result[\"text\"])"
   ]
  },
  {
   "cell_type": "markdown",
   "id": "7967ee3b-db66-4acc-aa9b-573ea0c56d51",
   "metadata": {},
   "source": [
    "## Resultados de la prueba\n",
    "\n",
    "Ultima ejecución día 3 de junio de 2025 ha tardado 1403 segundos"
   ]
  },
  {
   "cell_type": "code",
   "execution_count": null,
   "id": "bbc8fd56-e7f8-4d3c-9e07-ad700947a2fb",
   "metadata": {},
   "outputs": [],
   "source": []
  }
 ],
 "metadata": {
  "kernelspec": {
   "display_name": "Python 3 (ipykernel)",
   "language": "python",
   "name": "python3"
  },
  "language_info": {
   "codemirror_mode": {
    "name": "ipython",
    "version": 3
   },
   "file_extension": ".py",
   "mimetype": "text/x-python",
   "name": "python",
   "nbconvert_exporter": "python",
   "pygments_lexer": "ipython3",
   "version": "3.11.11"
  }
 },
 "nbformat": 4,
 "nbformat_minor": 5
}
