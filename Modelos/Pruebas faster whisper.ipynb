{
 "cells": [
  {
   "cell_type": "code",
   "execution_count": 1,
   "id": "7de9fc3b-9c3e-4ecc-94e3-2bf817047d10",
   "metadata": {},
   "outputs": [
    {
     "name": "stdout",
     "output_type": "stream",
     "text": [
      "Requirement already satisfied: faster-whisper in f:\\programas\\miniconda\\envs\\tfg\\lib\\site-packages (1.1.1)\n",
      "Requirement already satisfied: ctranslate2<5,>=4.0 in f:\\programas\\miniconda\\envs\\tfg\\lib\\site-packages (from faster-whisper) (4.6.0)\n",
      "Requirement already satisfied: huggingface-hub>=0.13 in f:\\programas\\miniconda\\envs\\tfg\\lib\\site-packages (from faster-whisper) (0.31.4)\n",
      "Requirement already satisfied: tokenizers<1,>=0.13 in f:\\programas\\miniconda\\envs\\tfg\\lib\\site-packages (from faster-whisper) (0.21.1)\n",
      "Requirement already satisfied: onnxruntime<2,>=1.14 in f:\\programas\\miniconda\\envs\\tfg\\lib\\site-packages (from faster-whisper) (1.22.0)\n",
      "Requirement already satisfied: av>=11 in f:\\programas\\miniconda\\envs\\tfg\\lib\\site-packages (from faster-whisper) (14.4.0)\n",
      "Requirement already satisfied: tqdm in f:\\programas\\miniconda\\envs\\tfg\\lib\\site-packages (from faster-whisper) (4.67.1)\n",
      "Requirement already satisfied: setuptools in f:\\programas\\miniconda\\envs\\tfg\\lib\\site-packages (from ctranslate2<5,>=4.0->faster-whisper) (78.1.1)\n",
      "Requirement already satisfied: numpy in f:\\programas\\miniconda\\envs\\tfg\\lib\\site-packages (from ctranslate2<5,>=4.0->faster-whisper) (2.2.6)\n",
      "Requirement already satisfied: pyyaml<7,>=5.3 in f:\\programas\\miniconda\\envs\\tfg\\lib\\site-packages (from ctranslate2<5,>=4.0->faster-whisper) (6.0.2)\n",
      "Requirement already satisfied: coloredlogs in f:\\programas\\miniconda\\envs\\tfg\\lib\\site-packages (from onnxruntime<2,>=1.14->faster-whisper) (15.0.1)\n",
      "Requirement already satisfied: flatbuffers in f:\\programas\\miniconda\\envs\\tfg\\lib\\site-packages (from onnxruntime<2,>=1.14->faster-whisper) (25.2.10)\n",
      "Requirement already satisfied: packaging in f:\\programas\\miniconda\\envs\\tfg\\lib\\site-packages (from onnxruntime<2,>=1.14->faster-whisper) (24.2)\n",
      "Requirement already satisfied: protobuf in f:\\programas\\miniconda\\envs\\tfg\\lib\\site-packages (from onnxruntime<2,>=1.14->faster-whisper) (6.31.1)\n",
      "Requirement already satisfied: sympy in f:\\programas\\miniconda\\envs\\tfg\\lib\\site-packages (from onnxruntime<2,>=1.14->faster-whisper) (1.13.1)\n",
      "Requirement already satisfied: filelock in f:\\programas\\miniconda\\envs\\tfg\\lib\\site-packages (from huggingface-hub>=0.13->faster-whisper) (3.17.0)\n",
      "Requirement already satisfied: fsspec>=2023.5.0 in f:\\programas\\miniconda\\envs\\tfg\\lib\\site-packages (from huggingface-hub>=0.13->faster-whisper) (2025.3.0)\n",
      "Requirement already satisfied: requests in f:\\programas\\miniconda\\envs\\tfg\\lib\\site-packages (from huggingface-hub>=0.13->faster-whisper) (2.32.3)\n",
      "Requirement already satisfied: typing-extensions>=3.7.4.3 in f:\\programas\\miniconda\\envs\\tfg\\lib\\site-packages (from huggingface-hub>=0.13->faster-whisper) (4.12.2)\n",
      "Requirement already satisfied: colorama in f:\\programas\\miniconda\\envs\\tfg\\lib\\site-packages (from tqdm->faster-whisper) (0.4.6)\n",
      "Requirement already satisfied: humanfriendly>=9.1 in f:\\programas\\miniconda\\envs\\tfg\\lib\\site-packages (from coloredlogs->onnxruntime<2,>=1.14->faster-whisper) (10.0)\n",
      "Requirement already satisfied: pyreadline3 in f:\\programas\\miniconda\\envs\\tfg\\lib\\site-packages (from humanfriendly>=9.1->coloredlogs->onnxruntime<2,>=1.14->faster-whisper) (3.5.4)\n",
      "Requirement already satisfied: charset-normalizer<4,>=2 in f:\\programas\\miniconda\\envs\\tfg\\lib\\site-packages (from requests->huggingface-hub>=0.13->faster-whisper) (3.3.2)\n",
      "Requirement already satisfied: idna<4,>=2.5 in f:\\programas\\miniconda\\envs\\tfg\\lib\\site-packages (from requests->huggingface-hub>=0.13->faster-whisper) (3.7)\n",
      "Requirement already satisfied: urllib3<3,>=1.21.1 in f:\\programas\\miniconda\\envs\\tfg\\lib\\site-packages (from requests->huggingface-hub>=0.13->faster-whisper) (2.3.0)\n",
      "Requirement already satisfied: certifi>=2017.4.17 in f:\\programas\\miniconda\\envs\\tfg\\lib\\site-packages (from requests->huggingface-hub>=0.13->faster-whisper) (2025.4.26)\n",
      "Requirement already satisfied: mpmath<1.4,>=1.1.0 in f:\\programas\\miniconda\\envs\\tfg\\lib\\site-packages (from sympy->onnxruntime<2,>=1.14->faster-whisper) (1.3.0)\n",
      "Note: you may need to restart the kernel to use updated packages.\n"
     ]
    }
   ],
   "source": [
    "pip install faster-whisper"
   ]
  },
  {
   "cell_type": "code",
   "execution_count": null,
   "id": "bd784ab8-76eb-4823-8a27-100382aee8f0",
   "metadata": {},
   "outputs": [],
   "source": [
    "from faster_whisper import WhisperModel\n",
    "\n",
    "model_size = \"large-v3\"\n",
    "\n",
    "model = WhisperModel(model_size, device=\"cuda\", compute_type=\"float16\")\n",
    "\n",
    "segments, info = model.transcribe(\n",
    "    \"./audios/salida/audio_prueba.mp3\",\n",
    "    beam_size=5\n",
    ")"
   ]
  },
  {
   "cell_type": "code",
   "execution_count": null,
   "id": "b1974b8b-91d5-4d7a-a68e-7370ab4adad1",
   "metadata": {},
   "outputs": [],
   "source": [
    "import torch\n",
    "torch.cuda.empty_cache() #Limpieza de la VRAM"
   ]
  },
  {
   "cell_type": "code",
   "execution_count": null,
   "id": "bc10bf5e-ce16-475c-95d8-83267053aa24",
   "metadata": {},
   "outputs": [],
   "source": [
    "with open(\"./salida/transcripcion_faster_whisper.txt\", \"w\", encoding=\"utf-8\") as f:\n",
    "    for segment in segments:\n",
    "        f.write(f\"{segment.text.strip()}\\n\")"
   ]
  },
  {
   "cell_type": "code",
   "execution_count": null,
   "id": "5f032443-7008-4306-9714-044bd6033ace",
   "metadata": {},
   "outputs": [],
   "source": [
    "for segment in segments:\n",
    "    print(\"[%.2fs -> %.2fs] %s\" % (segment.start, segment.end, segment.text))"
   ]
  },
  {
   "cell_type": "markdown",
   "id": "1eadbe06-5afa-4ae6-b0d0-b3c5d99d0662",
   "metadata": {},
   "source": [
    "## Resultados\n",
    "\n"
   ]
  },
  {
   "cell_type": "code",
   "execution_count": null,
   "id": "6d7a253a-bc63-4aa8-8d03-98d5779590a2",
   "metadata": {},
   "outputs": [],
   "source": []
  }
 ],
 "metadata": {
  "kernelspec": {
   "display_name": "Python 3 (ipykernel)",
   "language": "python",
   "name": "python3"
  },
  "language_info": {
   "codemirror_mode": {
    "name": "ipython",
    "version": 3
   },
   "file_extension": ".py",
   "mimetype": "text/x-python",
   "name": "python",
   "nbconvert_exporter": "python",
   "pygments_lexer": "ipython3",
   "version": "3.11.11"
  }
 },
 "nbformat": 4,
 "nbformat_minor": 5
}
