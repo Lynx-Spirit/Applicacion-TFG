{
 "cells": [
  {
   "cell_type": "markdown",
   "id": "5c1cc807-d20e-4db3-b96a-1af4c5794c8e",
   "metadata": {
    "editable": true,
    "slideshow": {
     "slide_type": ""
    },
    "tags": []
   },
   "source": [
    "## Procesamiento inicial de los ficheros de audio\n",
    "\n",
    "En esta parte lo único que voy a hacer va a ser transformar el fichero de auido a **.mp3**. Para todo lo que es el procesamiento de los audios, se usará la librería [pydub](https://pydub.com)"
   ]
  },
  {
   "cell_type": "code",
   "execution_count": 1,
   "id": "043be622-ae41-4766-9aae-c97cff01b38b",
   "metadata": {},
   "outputs": [
    {
     "name": "stdout",
     "output_type": "stream",
     "text": [
      "Requirement already satisfied: pip in f:\\programas\\miniconda\\envs\\tfg\\lib\\site-packages (25.1.1)\n",
      "Note: you may need to restart the kernel to use updated packages.\n"
     ]
    }
   ],
   "source": [
    "pip install --upgrade pip "
   ]
  },
  {
   "cell_type": "code",
   "execution_count": 2,
   "id": "8f619b67-b568-4402-a7f8-e99cbf0084b8",
   "metadata": {},
   "outputs": [
    {
     "name": "stdout",
     "output_type": "stream",
     "text": [
      "Requirement already satisfied: pydub in f:\\programas\\miniconda\\envs\\tfg\\lib\\site-packages (0.25.1)\n",
      "Note: you may need to restart the kernel to use updated packages.\n"
     ]
    }
   ],
   "source": [
    "pip install pydub"
   ]
  },
  {
   "cell_type": "code",
   "execution_count": 3,
   "id": "11b32624-a6ce-42bd-bc2d-2bc0382f2ad0",
   "metadata": {},
   "outputs": [
    {
     "data": {
      "text/plain": [
       "True"
      ]
     },
     "execution_count": 3,
     "metadata": {},
     "output_type": "execute_result"
    }
   ],
   "source": [
    "import os\n",
    "#Checkeo que se encuentra el archivo\n",
    "os.path.exists(\"./audios/audio_prueba.ogg\")"
   ]
  },
  {
   "cell_type": "code",
   "execution_count": null,
   "id": "83b69a32-4ad8-4c94-b132-28728a58642e",
   "metadata": {
    "editable": true,
    "slideshow": {
     "slide_type": ""
    },
    "tags": []
   },
   "outputs": [],
   "source": [
    "from pydub import AudioSegment\n",
    "sound = AudioSegment.from_file(\"./audios/audio_prueba.ogg\") #Puedes meter aquí cualquier tipo de audio\n",
    "\n",
    "sound.export(\"./audios/salida/audio_prueba.mp3\", format=\"mp3\", bitrate=\"128k\")"
   ]
  },
  {
   "cell_type": "markdown",
   "id": "fb8bd4c9-4cce-4264-9a3b-305b6d7b1491",
   "metadata": {},
   "source": [
    "## Uso del modelo\n",
    "\n"
   ]
  },
  {
   "cell_type": "code",
   "execution_count": null,
   "id": "dce69b6b-f351-481b-9c06-f22aa0c9cb53",
   "metadata": {},
   "outputs": [],
   "source": [
    "pip install --upgrade transformers datasets[audio] accelerate"
   ]
  },
  {
   "cell_type": "code",
   "execution_count": null,
   "id": "088651b6-6770-49c2-81a7-7f8228620fd4",
   "metadata": {},
   "outputs": [],
   "source": [
    "import torch\n",
    "print(\"PyTorch:\", torch.__version__)\n",
    "print(\"CUDA disponible:\", torch.cuda.is_available())\n",
    "print(\"GPU:\", torch.cuda.get_device_name(0))"
   ]
  },
  {
   "cell_type": "code",
   "execution_count": null,
   "id": "c1598126-1483-4bd4-a3bf-1ee6fb47d194",
   "metadata": {},
   "outputs": [],
   "source": [
    "import torch\n",
    "from transformers import AutoModelForSpeechSeq2Seq, AutoProcessor, pipeline\n",
    "from datasets import load_dataset\n",
    "\n",
    "\n",
    "device = \"cuda:0\" if torch.cuda.is_available() else \"cpu\"\n",
    "torch_dtype = torch.float16 if torch.cuda.is_available() else torch.float32\n",
    "\n",
    "model_id = \"openai/whisper-large-turbo\"\n",
    "\n",
    "model = AutoModelForSpeechSeq2Seq.from_pretrained(\n",
    "    model_id, torch_dtype=torch_dtype, low_cpu_mem_usage=True, use_safetensors=True\n",
    ")\n",
    "model.to(device)\n",
    "\n",
    "processor = AutoProcessor.from_pretrained(model_id)\n",
    "\n",
    "pipe = pipeline(\n",
    "    \"automatic-speech-recognition\",\n",
    "    model=model,\n",
    "    tokenizer=processor.tokenizer,\n",
    "    feature_extractor=processor.feature_extractor,\n",
    "    torch_dtype=torch_dtype,\n",
    "    device=device,\n",
    ")\n",
    "\n",
    "result = pipe(\"./audios/salida/audio_prueba.mp3\", return_timestamps=True)\n"
   ]
  },
  {
   "cell_type": "code",
   "execution_count": 2,
   "id": "b8926fcc-8ba0-4b9d-9ae9-45015f86cb32",
   "metadata": {},
   "outputs": [],
   "source": [
    "with open(\"./salida/salida_unico_archivo_whisper_large.txt\", \"w\") as archivo:\n",
    "    archivo.write(result[\"text\"])"
   ]
  },
  {
   "cell_type": "markdown",
   "id": "7967ee3b-db66-4acc-aa9b-573ea0c56d51",
   "metadata": {},
   "source": [
    "## Resultados de la prueba\n",
    "\n",
    "Aproximadamente, el tiempo que ha tardado en procesar un archivo de 5 horas aproximadamente, ha tardado sobre una hora y media. Los resultados que ha dado son muy buenos, auque el problema que hay es que tienda cada cierto tiempo a repetir varias veces una misma frase. Posiblemente, si se divide el audio en secciones más pequeñas es posible que no de ese fallo.\n",
    "\n",
    "En resumen, esto no pienso que de base sea viable debido al tiempo que tarda en procesar el audio, pese a tener un buen resultado\n",
    "\n",
    "(última ejecución día 2 de junio de 2025) 5493 ejecución completa."
   ]
  }
 ],
 "metadata": {
  "kernelspec": {
   "display_name": "Python 3 (ipykernel)",
   "language": "python",
   "name": "python3"
  },
  "language_info": {
   "codemirror_mode": {
    "name": "ipython",
    "version": 3
   },
   "file_extension": ".py",
   "mimetype": "text/x-python",
   "name": "python",
   "nbconvert_exporter": "python",
   "pygments_lexer": "ipython3",
   "version": "3.11.11"
  }
 },
 "nbformat": 4,
 "nbformat_minor": 5
}
