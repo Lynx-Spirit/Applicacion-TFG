{
 "cells": [
  {
   "cell_type": "markdown",
   "id": "c990d286-b5ee-4c46-a797-dc38b5ab7b26",
   "metadata": {},
   "source": [
    "## Procesamiento inicial del audio\n",
    "\n",
    "En este caso, lo que se va a hacer es trasformar el audio a **.mp3**, para luego dividir el audio a secciones más pequeñas. Para ello, al igual que en el resto de pruebas, se usará la librería de [pydub](https://pydub.com)\n",
    "\n",
    "también he tomado como referencia para el tema de la división de los audios [medium](https://medium.com/@purushottamgupta2010/splitting-audio-files-into-manageable-segments-with-python-890aba53d254)"
   ]
  },
  {
   "cell_type": "code",
   "execution_count": 1,
   "id": "148e140a-0691-4453-84eb-7f912b24a5b6",
   "metadata": {
    "editable": true,
    "slideshow": {
     "slide_type": ""
    },
    "tags": []
   },
   "outputs": [
    {
     "name": "stdout",
     "output_type": "stream",
     "text": [
      "Requirement already satisfied: pip in f:\\programas\\miniconda\\envs\\tfg\\lib\\site-packages (25.1.1)\n",
      "Note: you may need to restart the kernel to use updated packages.\n"
     ]
    }
   ],
   "source": [
    "pip install --upgrade pip"
   ]
  },
  {
   "cell_type": "code",
   "execution_count": 2,
   "id": "8eb4f5f8-505a-4ae8-b7bd-b8c94ee397a1",
   "metadata": {
    "editable": true,
    "slideshow": {
     "slide_type": ""
    },
    "tags": []
   },
   "outputs": [
    {
     "name": "stdout",
     "output_type": "stream",
     "text": [
      "Requirement already satisfied: pydub in f:\\programas\\miniconda\\envs\\tfg\\lib\\site-packages (0.25.1)\n",
      "Note: you may need to restart the kernel to use updated packages.\n"
     ]
    }
   ],
   "source": [
    "pip install pydub"
   ]
  },
  {
   "cell_type": "code",
   "execution_count": 3,
   "id": "2e7f3e20-8004-493a-9ddb-73760b525421",
   "metadata": {
    "editable": true,
    "slideshow": {
     "slide_type": ""
    },
    "tags": []
   },
   "outputs": [
    {
     "data": {
      "text/plain": [
       "True"
      ]
     },
     "execution_count": 3,
     "metadata": {},
     "output_type": "execute_result"
    }
   ],
   "source": [
    "import os\n",
    "\n",
    "os.path.exists(\"./audios/audio_prueba.ogg\")"
   ]
  },
  {
   "cell_type": "code",
   "execution_count": 2,
   "id": "85323d1e-cf0f-4a0a-b185-2ec15d9ee2e1",
   "metadata": {
    "editable": true,
    "slideshow": {
     "slide_type": ""
    },
    "tags": []
   },
   "outputs": [
    {
     "name": "stdout",
     "output_type": "stream",
     "text": [
      "Exportado: ./audios/salida/audio_prueba_part1.mp3\n",
      "Exportado: ./audios/salida/audio_prueba_part2.mp3\n",
      "Exportado: ./audios/salida/audio_prueba_part3.mp3\n",
      "Exportado: ./audios/salida/audio_prueba_part4.mp3\n",
      "Exportado: ./audios/salida/audio_prueba_part5.mp3\n",
      "Exportado: ./audios/salida/audio_prueba_part6.mp3\n",
      "Exportado: ./audios/salida/audio_prueba_part7.mp3\n",
      "Exportado: ./audios/salida/audio_prueba_part8.mp3\n",
      "Exportado: ./audios/salida/audio_prueba_part9.mp3\n",
      "Exportado: ./audios/salida/audio_prueba_part10.mp3\n",
      "Exportado: ./audios/salida/audio_prueba_part11.mp3\n",
      "Exportado: ./audios/salida/audio_prueba_part12.mp3\n",
      "Exportado: ./audios/salida/audio_prueba_part13.mp3\n",
      "Exportado: ./audios/salida/audio_prueba_part14.mp3\n",
      "Exportado: ./audios/salida/audio_prueba_part15.mp3\n",
      "Exportado: ./audios/salida/audio_prueba_part16.mp3\n",
      "Exportado: ./audios/salida/audio_prueba_part17.mp3\n",
      "Exportado: ./audios/salida/audio_prueba_part18.mp3\n",
      "Exportado: ./audios/salida/audio_prueba_part19.mp3\n"
     ]
    }
   ],
   "source": [
    "from pydub import AudioSegment\n",
    "import math\n",
    "\n",
    "audio = AudioSegment.from_file(\"./audios/audio_prueba.ogg\")\n",
    "\n",
    "base_length = 15 * 60 * 1000 # Longitud de tiempo base que van a tener los audios\n",
    "total_length = len(audio) # Recuerda que el tiempo que te va a poner por aquí es el tiempo en milisegundos\n",
    "\n",
    "num_segments = math.ceil(total_length / base_length)\n",
    "new_length = total_length / num_segments\n",
    "\n",
    "files = []\n",
    "\n",
    "for i in range(num_segments):\n",
    "    start = i * new_length\n",
    "    finish = min(total_length, ((i + 1 ) * new_length))\n",
    "    \n",
    "    if i == 0:\n",
    "        finish = min(total_length, finish + 2 * 1000)\n",
    "    else:\n",
    "        start = max(0, start - 2 * 1000)\n",
    "\n",
    "    finish = min(finish, total_length)\n",
    "    \n",
    "    segment = audio[start:finish]\n",
    "    \n",
    "    output_file = f\"./audios/salida/audio_prueba_part{i+1}.mp3\"\n",
    "    files.append(output_file)\n",
    "\n",
    "    segment.export(output_file, format=\"mp3\", bitrate=\"128k\")\n",
    "\n",
    "    print(f\"Exportado: {output_file}\")"
   ]
  },
  {
   "cell_type": "markdown",
   "id": "7bc233a6-b5fa-4a4b-8416-4da99cf62ec4",
   "metadata": {},
   "source": [
    "## Uso del modelo"
   ]
  },
  {
   "cell_type": "code",
   "execution_count": 2,
   "id": "bb64cafe-6ca5-46fe-9933-c6f8b5d37a77",
   "metadata": {},
   "outputs": [
    {
     "name": "stdout",
     "output_type": "stream",
     "text": [
      "Requirement already satisfied: transformers in f:\\programas\\miniconda\\envs\\tfg\\lib\\site-packages (4.52.3)\n",
      "Requirement already satisfied: accelerate in f:\\programas\\miniconda\\envs\\tfg\\lib\\site-packages (1.7.0)\n",
      "Requirement already satisfied: datasets[audio] in f:\\programas\\miniconda\\envs\\tfg\\lib\\site-packages (3.6.0)\n",
      "Requirement already satisfied: filelock in f:\\programas\\miniconda\\envs\\tfg\\lib\\site-packages (from transformers) (3.17.0)\n",
      "Requirement already satisfied: huggingface-hub<1.0,>=0.30.0 in f:\\programas\\miniconda\\envs\\tfg\\lib\\site-packages (from transformers) (0.31.4)\n",
      "Requirement already satisfied: numpy>=1.17 in f:\\programas\\miniconda\\envs\\tfg\\lib\\site-packages (from transformers) (2.2.6)\n",
      "Requirement already satisfied: packaging>=20.0 in f:\\programas\\miniconda\\envs\\tfg\\lib\\site-packages (from transformers) (24.2)\n",
      "Requirement already satisfied: pyyaml>=5.1 in f:\\programas\\miniconda\\envs\\tfg\\lib\\site-packages (from transformers) (6.0.2)\n",
      "Requirement already satisfied: regex!=2019.12.17 in f:\\programas\\miniconda\\envs\\tfg\\lib\\site-packages (from transformers) (2024.11.6)\n",
      "Requirement already satisfied: requests in f:\\programas\\miniconda\\envs\\tfg\\lib\\site-packages (from transformers) (2.32.3)\n",
      "Requirement already satisfied: tokenizers<0.22,>=0.21 in f:\\programas\\miniconda\\envs\\tfg\\lib\\site-packages (from transformers) (0.21.1)\n",
      "Requirement already satisfied: safetensors>=0.4.3 in f:\\programas\\miniconda\\envs\\tfg\\lib\\site-packages (from transformers) (0.5.3)\n",
      "Requirement already satisfied: tqdm>=4.27 in f:\\programas\\miniconda\\envs\\tfg\\lib\\site-packages (from transformers) (4.67.1)\n",
      "Requirement already satisfied: fsspec>=2023.5.0 in f:\\programas\\miniconda\\envs\\tfg\\lib\\site-packages (from huggingface-hub<1.0,>=0.30.0->transformers) (2025.3.0)\n",
      "Requirement already satisfied: typing-extensions>=3.7.4.3 in f:\\programas\\miniconda\\envs\\tfg\\lib\\site-packages (from huggingface-hub<1.0,>=0.30.0->transformers) (4.12.2)\n",
      "Requirement already satisfied: pyarrow>=15.0.0 in f:\\programas\\miniconda\\envs\\tfg\\lib\\site-packages (from datasets[audio]) (20.0.0)\n",
      "Requirement already satisfied: dill<0.3.9,>=0.3.0 in f:\\programas\\miniconda\\envs\\tfg\\lib\\site-packages (from datasets[audio]) (0.3.8)\n",
      "Requirement already satisfied: pandas in f:\\programas\\miniconda\\envs\\tfg\\lib\\site-packages (from datasets[audio]) (2.2.3)\n",
      "Requirement already satisfied: xxhash in f:\\programas\\miniconda\\envs\\tfg\\lib\\site-packages (from datasets[audio]) (3.5.0)\n",
      "Requirement already satisfied: multiprocess<0.70.17 in f:\\programas\\miniconda\\envs\\tfg\\lib\\site-packages (from datasets[audio]) (0.70.16)\n",
      "Requirement already satisfied: soundfile>=0.12.1 in f:\\programas\\miniconda\\envs\\tfg\\lib\\site-packages (from datasets[audio]) (0.13.1)\n",
      "Requirement already satisfied: librosa in f:\\programas\\miniconda\\envs\\tfg\\lib\\site-packages (from datasets[audio]) (0.11.0)\n",
      "Requirement already satisfied: soxr>=0.4.0 in f:\\programas\\miniconda\\envs\\tfg\\lib\\site-packages (from datasets[audio]) (0.5.0.post1)\n",
      "Requirement already satisfied: aiohttp!=4.0.0a0,!=4.0.0a1 in f:\\programas\\miniconda\\envs\\tfg\\lib\\site-packages (from fsspec[http]<=2025.3.0,>=2023.1.0->datasets[audio]) (3.11.18)\n",
      "Requirement already satisfied: psutil in f:\\programas\\miniconda\\envs\\tfg\\lib\\site-packages (from accelerate) (5.9.0)\n",
      "Requirement already satisfied: torch>=2.0.0 in f:\\programas\\miniconda\\envs\\tfg\\lib\\site-packages (from accelerate) (2.5.1+cu121)\n",
      "Requirement already satisfied: aiohappyeyeballs>=2.3.0 in f:\\programas\\miniconda\\envs\\tfg\\lib\\site-packages (from aiohttp!=4.0.0a0,!=4.0.0a1->fsspec[http]<=2025.3.0,>=2023.1.0->datasets[audio]) (2.6.1)\n",
      "Requirement already satisfied: aiosignal>=1.1.2 in f:\\programas\\miniconda\\envs\\tfg\\lib\\site-packages (from aiohttp!=4.0.0a0,!=4.0.0a1->fsspec[http]<=2025.3.0,>=2023.1.0->datasets[audio]) (1.3.2)\n",
      "Requirement already satisfied: attrs>=17.3.0 in f:\\programas\\miniconda\\envs\\tfg\\lib\\site-packages (from aiohttp!=4.0.0a0,!=4.0.0a1->fsspec[http]<=2025.3.0,>=2023.1.0->datasets[audio]) (24.3.0)\n",
      "Requirement already satisfied: frozenlist>=1.1.1 in f:\\programas\\miniconda\\envs\\tfg\\lib\\site-packages (from aiohttp!=4.0.0a0,!=4.0.0a1->fsspec[http]<=2025.3.0,>=2023.1.0->datasets[audio]) (1.6.0)\n",
      "Requirement already satisfied: multidict<7.0,>=4.5 in f:\\programas\\miniconda\\envs\\tfg\\lib\\site-packages (from aiohttp!=4.0.0a0,!=4.0.0a1->fsspec[http]<=2025.3.0,>=2023.1.0->datasets[audio]) (6.4.4)\n",
      "Requirement already satisfied: propcache>=0.2.0 in f:\\programas\\miniconda\\envs\\tfg\\lib\\site-packages (from aiohttp!=4.0.0a0,!=4.0.0a1->fsspec[http]<=2025.3.0,>=2023.1.0->datasets[audio]) (0.3.1)\n",
      "Requirement already satisfied: yarl<2.0,>=1.17.0 in f:\\programas\\miniconda\\envs\\tfg\\lib\\site-packages (from aiohttp!=4.0.0a0,!=4.0.0a1->fsspec[http]<=2025.3.0,>=2023.1.0->datasets[audio]) (1.20.0)\n",
      "Requirement already satisfied: idna>=2.0 in f:\\programas\\miniconda\\envs\\tfg\\lib\\site-packages (from yarl<2.0,>=1.17.0->aiohttp!=4.0.0a0,!=4.0.0a1->fsspec[http]<=2025.3.0,>=2023.1.0->datasets[audio]) (3.7)\n",
      "Requirement already satisfied: charset-normalizer<4,>=2 in f:\\programas\\miniconda\\envs\\tfg\\lib\\site-packages (from requests->transformers) (3.3.2)\n",
      "Requirement already satisfied: urllib3<3,>=1.21.1 in f:\\programas\\miniconda\\envs\\tfg\\lib\\site-packages (from requests->transformers) (2.3.0)\n",
      "Requirement already satisfied: certifi>=2017.4.17 in f:\\programas\\miniconda\\envs\\tfg\\lib\\site-packages (from requests->transformers) (2025.4.26)\n",
      "Requirement already satisfied: cffi>=1.0 in f:\\programas\\miniconda\\envs\\tfg\\lib\\site-packages (from soundfile>=0.12.1->datasets[audio]) (1.17.1)\n",
      "Requirement already satisfied: pycparser in f:\\programas\\miniconda\\envs\\tfg\\lib\\site-packages (from cffi>=1.0->soundfile>=0.12.1->datasets[audio]) (2.21)\n",
      "Requirement already satisfied: networkx in f:\\programas\\miniconda\\envs\\tfg\\lib\\site-packages (from torch>=2.0.0->accelerate) (3.4.2)\n",
      "Requirement already satisfied: jinja2 in f:\\programas\\miniconda\\envs\\tfg\\lib\\site-packages (from torch>=2.0.0->accelerate) (3.1.6)\n",
      "Requirement already satisfied: sympy==1.13.1 in f:\\programas\\miniconda\\envs\\tfg\\lib\\site-packages (from torch>=2.0.0->accelerate) (1.13.1)\n",
      "Requirement already satisfied: mpmath<1.4,>=1.1.0 in f:\\programas\\miniconda\\envs\\tfg\\lib\\site-packages (from sympy==1.13.1->torch>=2.0.0->accelerate) (1.3.0)\n",
      "Requirement already satisfied: colorama in f:\\programas\\miniconda\\envs\\tfg\\lib\\site-packages (from tqdm>=4.27->transformers) (0.4.6)\n",
      "Requirement already satisfied: MarkupSafe>=2.0 in f:\\programas\\miniconda\\envs\\tfg\\lib\\site-packages (from jinja2->torch>=2.0.0->accelerate) (3.0.2)\n",
      "Requirement already satisfied: audioread>=2.1.9 in f:\\programas\\miniconda\\envs\\tfg\\lib\\site-packages (from librosa->datasets[audio]) (3.0.1)\n",
      "Requirement already satisfied: numba>=0.51.0 in f:\\programas\\miniconda\\envs\\tfg\\lib\\site-packages (from librosa->datasets[audio]) (0.61.2)\n",
      "Requirement already satisfied: scipy>=1.6.0 in f:\\programas\\miniconda\\envs\\tfg\\lib\\site-packages (from librosa->datasets[audio]) (1.15.3)\n",
      "Requirement already satisfied: scikit-learn>=1.1.0 in f:\\programas\\miniconda\\envs\\tfg\\lib\\site-packages (from librosa->datasets[audio]) (1.6.1)\n",
      "Requirement already satisfied: joblib>=1.0 in f:\\programas\\miniconda\\envs\\tfg\\lib\\site-packages (from librosa->datasets[audio]) (1.4.2)\n",
      "Requirement already satisfied: decorator>=4.3.0 in f:\\programas\\miniconda\\envs\\tfg\\lib\\site-packages (from librosa->datasets[audio]) (5.1.1)\n",
      "Requirement already satisfied: pooch>=1.1 in f:\\programas\\miniconda\\envs\\tfg\\lib\\site-packages (from librosa->datasets[audio]) (1.8.2)\n",
      "Requirement already satisfied: lazy_loader>=0.1 in f:\\programas\\miniconda\\envs\\tfg\\lib\\site-packages (from librosa->datasets[audio]) (0.4)\n",
      "Requirement already satisfied: msgpack>=1.0 in f:\\programas\\miniconda\\envs\\tfg\\lib\\site-packages (from librosa->datasets[audio]) (1.1.0)\n",
      "Requirement already satisfied: llvmlite<0.45,>=0.44.0dev0 in f:\\programas\\miniconda\\envs\\tfg\\lib\\site-packages (from numba>=0.51.0->librosa->datasets[audio]) (0.44.0)\n",
      "Requirement already satisfied: platformdirs>=2.5.0 in f:\\programas\\miniconda\\envs\\tfg\\lib\\site-packages (from pooch>=1.1->librosa->datasets[audio]) (4.3.7)\n",
      "Requirement already satisfied: threadpoolctl>=3.1.0 in f:\\programas\\miniconda\\envs\\tfg\\lib\\site-packages (from scikit-learn>=1.1.0->librosa->datasets[audio]) (3.5.0)\n",
      "Requirement already satisfied: python-dateutil>=2.8.2 in f:\\programas\\miniconda\\envs\\tfg\\lib\\site-packages (from pandas->datasets[audio]) (2.9.0.post0)\n",
      "Requirement already satisfied: pytz>=2020.1 in f:\\programas\\miniconda\\envs\\tfg\\lib\\site-packages (from pandas->datasets[audio]) (2025.2)\n",
      "Requirement already satisfied: tzdata>=2022.7 in f:\\programas\\miniconda\\envs\\tfg\\lib\\site-packages (from pandas->datasets[audio]) (2025.2)\n",
      "Requirement already satisfied: six>=1.5 in f:\\programas\\miniconda\\envs\\tfg\\lib\\site-packages (from python-dateutil>=2.8.2->pandas->datasets[audio]) (1.17.0)\n",
      "Note: you may need to restart the kernel to use updated packages.\n"
     ]
    }
   ],
   "source": [
    "pip install --upgrade transformers datasets[audio] accelerate"
   ]
  },
  {
   "cell_type": "code",
   "execution_count": null,
   "id": "822efe36-ba43-4316-a43c-47f1a7a22c5d",
   "metadata": {},
   "outputs": [],
   "source": [
    "import torch\n",
    "from transformers import AutoModelForSpeechSeq2Seq, AutoProcessor, pipeline\n",
    "from datasets import load_dataset\n",
    "\n",
    "\n",
    "device = \"cuda:0\" if torch.cuda.is_available() else \"cpu\"\n",
    "torch_dtype = torch.float16 if torch.cuda.is_available() else torch.float32\n",
    "\n",
    "model_id = \"openai/whisper-large-v3\"\n",
    "\n",
    "model = AutoModelForSpeechSeq2Seq.from_pretrained(\n",
    "    model_id, torch_dtype=torch_dtype, low_cpu_mem_usage=True, use_safetensors=True\n",
    ")\n",
    "model.to(device)\n",
    "\n",
    "processor = AutoProcessor.from_pretrained(model_id)\n",
    "\n",
    "pipe = pipeline(\n",
    "    \"automatic-speech-recognition\",\n",
    "    model=model,\n",
    "    tokenizer=processor.tokenizer,\n",
    "    feature_extractor=processor.feature_extractor,\n",
    "    torch_dtype=torch_dtype,\n",
    "    device=device,\n",
    ")\n",
    "\n",
    "result = pipe(files, batch_size=2, return_timestamps=True)"
   ]
  },
  {
   "cell_type": "code",
   "execution_count": 4,
   "id": "877f72ae-524a-4ec4-adfa-091c8879ae52",
   "metadata": {},
   "outputs": [],
   "source": [
    "import torch\n",
    "torch.cuda.empty_cache() #Limpieza de la VRAM"
   ]
  },
  {
   "cell_type": "code",
   "execution_count": null,
   "id": "ffb27e56-275d-4824-89c9-271627aa056a",
   "metadata": {},
   "outputs": [],
   "source": [
    "result"
   ]
  },
  {
   "cell_type": "code",
   "execution_count": 6,
   "id": "43d5a0f9-4ba5-4fb0-bd45-30a616320ce9",
   "metadata": {},
   "outputs": [],
   "source": [
    "with open(\"./salida/salida_whisper_large_varios_audios(3).txt\", \"w\") as archivo:\n",
    "    for segmento in result:\n",
    "        archivo.write(segmento['text'])"
   ]
  },
  {
   "cell_type": "markdown",
   "id": "d6647a5c-4aca-41ee-900a-56db2b0f6944",
   "metadata": {},
   "source": [
    "## Resultados de las pruebas:\n",
    "\n"
   ]
  }
 ],
 "metadata": {
  "kernelspec": {
   "display_name": "Python 3 (ipykernel)",
   "language": "python",
   "name": "python3"
  },
  "language_info": {
   "codemirror_mode": {
    "name": "ipython",
    "version": 3
   },
   "file_extension": ".py",
   "mimetype": "text/x-python",
   "name": "python",
   "nbconvert_exporter": "python",
   "pygments_lexer": "ipython3",
   "version": "3.11.11"
  }
 },
 "nbformat": 4,
 "nbformat_minor": 5
}
